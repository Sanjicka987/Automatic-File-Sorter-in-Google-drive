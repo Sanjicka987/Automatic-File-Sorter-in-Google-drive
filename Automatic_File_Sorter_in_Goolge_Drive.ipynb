{
  "nbformat": 4,
  "nbformat_minor": 0,
  "metadata": {
    "colab": {
      "provenance": []
    },
    "kernelspec": {
      "name": "python3",
      "display_name": "Python 3"
    },
    "language_info": {
      "name": "python"
    }
  },
  "cells": [
    {
      "cell_type": "code",
      "execution_count": 1,
      "metadata": {
        "id": "AvHcnCz6_aHI"
      },
      "outputs": [],
      "source": [
        "import os, shutil"
      ]
    },
    {
      "cell_type": "code",
      "source": [
        "path = '/content/drive/MyDrive/Python tutorials/'"
      ],
      "metadata": {
        "id": "c3BSiy_7AsY1"
      },
      "execution_count": 3,
      "outputs": []
    },
    {
      "cell_type": "code",
      "source": [
        "file_name = os.listdir(path)"
      ],
      "metadata": {
        "id": "1_hU_cpzHSQl"
      },
      "execution_count": 4,
      "outputs": []
    },
    {
      "cell_type": "code",
      "source": [
        "file_name"
      ],
      "metadata": {
        "colab": {
          "base_uri": "https://localhost:8080/"
        },
        "id": "szPlEqtRHdZk",
        "outputId": "42db7205-4372-4518-b0c6-ac138b8f3649"
      },
      "execution_count": 5,
      "outputs": [
        {
          "output_type": "execute_result",
          "data": {
            "text/plain": [
              "['Slika.jpg', 'Task 1.docx', 'Delovi za nosenje vo Kina - Mende.xlsx']"
            ]
          },
          "metadata": {},
          "execution_count": 5
        }
      ]
    },
    {
      "cell_type": "code",
      "source": [
        "#Crating folders\n",
        "\n",
        "folder_names = ['jpg files', 'excell files', 'text files']\n",
        "\n",
        "for loop in range(0,3):\n",
        "  if not os.path.exists(path + folder_names[loop]):\n",
        "    os.makedirs(path + folder_names[loop])\n"
      ],
      "metadata": {
        "id": "uazx0e9HHeWI"
      },
      "execution_count": 6,
      "outputs": []
    },
    {
      "cell_type": "code",
      "source": [
        "#Moving files in  correct folder\n",
        "\n",
        "for file in file_name:\n",
        "  if '.jpg' in file and not  os.path.exists(path + \"jpg files/\" + file):\n",
        "    shutil.move(path + file, path + 'jpg files/' + file)\n",
        "  elif '.xlsx' in file and not  os.path.exists(path + \"excell files/\" + file):\n",
        "    shutil.move(path + file, path + 'excell files/' + file)\n",
        "  elif '.docx' in file and not  os.path.exists(path + \"text files/\" + file):\n",
        "    shutil.move(path + file, path + 'text files/' + file)\n"
      ],
      "metadata": {
        "id": "7xuZCgEJIEKY"
      },
      "execution_count": 7,
      "outputs": []
    },
    {
      "cell_type": "code",
      "source": [],
      "metadata": {
        "id": "IH0_vkrIJvgk"
      },
      "execution_count": null,
      "outputs": []
    }
  ]
}